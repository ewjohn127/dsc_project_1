{
  "nbformat": 4,
  "nbformat_minor": 0,
  "metadata": {
    "colab": {
      "name": "Phase1_Project.ipynb",
      "provenance": [],
      "authorship_tag": "ABX9TyPv2tZhXIVYNOPJtBLRWAU+",
      "include_colab_link": true
    },
    "kernelspec": {
      "name": "python3",
      "display_name": "Python 3"
    },
    "language_info": {
      "name": "python"
    }
  },
  "cells": [
    {
      "cell_type": "markdown",
      "metadata": {
        "id": "view-in-github",
        "colab_type": "text"
      },
      "source": [
        "<a href=\"https://colab.research.google.com/github/ewjohn127/dsc_project_1/blob/main/Phase1_Project.ipynb\" target=\"_parent\"><img src=\"https://colab.research.google.com/assets/colab-badge.svg\" alt=\"Open In Colab\"/></a>"
      ]
    },
    {
      "cell_type": "markdown",
      "metadata": {
        "id": "7er9bdMxhSoZ"
      },
      "source": [
        "# Imports"
      ]
    },
    {
      "cell_type": "code",
      "metadata": {
        "id": "dmi6Pf-zhYAY"
      },
      "source": [
        "from matplotlib import pyplot as plt\n",
        "import pandas as pd\n",
        "import numpy as np\n",
        "import csv\n",
        "import sqlite3"
      ],
      "execution_count": 2,
      "outputs": []
    },
    {
      "cell_type": "markdown",
      "metadata": {
        "id": "-HnMPkoJg_xN"
      },
      "source": [
        "# Idea 1 - Proof of Concept Model - Choose Genre With Highest Profitability And Lowest Budget\n",
        "\n",
        "## Looking At:\n",
        "* Genre Profitability\n",
        "* Profitability v Movie Budget\n",
        "* Example of Movies Fitting This Model"
      ]
    },
    {
      "cell_type": "markdown",
      "metadata": {
        "id": "6R7yxPoehmeo"
      },
      "source": [
        "## Functions For Idea 1"
      ]
    },
    {
      "cell_type": "code",
      "metadata": {
        "id": "QvYrXE9ehpZe"
      },
      "source": [
        "'''\n",
        "Takes a list of professions and checks to see if 'director' is in the list\n",
        "'''\n",
        "\n",
        "def identify_director(professions):\n",
        "    if 'director' in professions:\n",
        "        return True\n",
        "    else:\n",
        "        return False"
      ],
      "execution_count": 3,
      "outputs": []
    },
    {
      "cell_type": "code",
      "metadata": {
        "id": "HAL6KRNDh2v3"
      },
      "source": [
        "'''\n",
        "Takes a USD string and drops commas, units and converts to type int\n",
        "'''\n",
        "\n",
        "def clean_money(budget):\n",
        "    split_list = budget.split(',')\n",
        "    split_list[0] = split_list[0][1:]\n",
        "    answer = ''\n",
        "    for part in split_list:\n",
        "        answer += part\n",
        "\n",
        "    return int(answer)"
      ],
      "execution_count": 4,
      "outputs": []
    },
    {
      "cell_type": "code",
      "metadata": {
        "id": "PlfcRdrqiRfK"
      },
      "source": [
        "'''\n",
        "Takes an integer, converts to str, adds commas and $ sign\n",
        "'''\n",
        "\n",
        "def dirty_money(dollar_int):\n",
        "    dollar_str = str(dollar_int)[::-1]\n",
        "    final_dollar = ''\n",
        "    counter = 0\n",
        "    for number in dollar_str:\n",
        "        counter += 1\n",
        "        final_dollar += number\n",
        "        if counter % 3 == 0:\n",
        "            final_dollar += ','\n",
        "    if final_dollar[::-1][0] == ',':\n",
        "        final_dollar = final_dollar[:-1]\n",
        "        return '$' + final_dollar[::-1]\n",
        "    else:\n",
        "        return '$' + final_dollar[::-1]"
      ],
      "execution_count": 5,
      "outputs": []
    },
    {
      "cell_type": "code",
      "metadata": {
        "id": "guPmQ-O5ifVf"
      },
      "source": [
        "'''\n",
        "Takes an integer\n",
        "'''\n",
        "\n",
        "def find_main_genre(genre_list):\n",
        "    if len(genre_list) > 1:\n",
        "        main_genre = genre_list[0] + '/' + genre_list[1]\n",
        "    else:\n",
        "        main_genre = genre_list[0]\n",
        "\n",
        "    return main_genre"
      ],
      "execution_count": 6,
      "outputs": []
    },
    {
      "cell_type": "markdown",
      "metadata": {
        "id": "4wTPGM13hIFg"
      },
      "source": [
        ""
      ]
    },
    {
      "cell_type": "markdown",
      "metadata": {
        "id": "9jviYKvEkDTf"
      },
      "source": [
        "## Preparing Datasets"
      ]
    },
    {
      "cell_type": "markdown",
      "metadata": {
        "id": "6FJ2vPOZkg80"
      },
      "source": [
        "### Preparing Movie Budget Dataset"
      ]
    },
    {
      "cell_type": "code",
      "metadata": {
        "colab": {
          "base_uri": "https://localhost:8080/",
          "height": 443
        },
        "id": "4aqf2ZKrkcGg",
        "outputId": "2b2d4a57-3170-47d1-a8e1-6c3ec1e8a7de"
      },
      "source": [
        "# Read In Dataset\n",
        "df_budget = pd.read_csv('data/tn.movie_budgets.csv')\n",
        "\n",
        "# Add New Columns With $$ As Int\n",
        "df_budget['budget_int'] = df_budget['production_budget'].map(clean_money)\n",
        "df_budget['total_gross_int'] = df_budget['domestic_gross'].map(clean_money) + df_budget['worldwide_gross'].map(clean_money)\n",
        "\n",
        "# Drop Movies That Made No Money\n",
        "df_budget1 = df_budget[df_budget['total_gross_int'] != 0].copy(deep=True)\n",
        "\n",
        "# Add Gross Margin And Release Year Columns\n",
        "df_budget1['gross_margin'] = round((df_budget1['total_gross_int'] - df_budget1['budget_int']) / df_budget1['total_gross_int'] * 100 , 2)\n",
        "df_budget1['release_year'] = df_budget1['release_date'].map(lambda date_: int(date_[-4:]))\n",
        "\n",
        "# Drop Unneeded Columns\n",
        "df_budget_clean = df_budget1.drop(['id','release_date','production_budget','domestic_gross','worldwide_gross'],axis = 1)\n",
        "\n",
        "# Sort By Year And Gross Margin\n",
        "df_budget_sorted = df_budget_clean.sort_values(['release_year','gross_margin'],ascending=False)"
      ],
      "execution_count": 7,
      "outputs": [
        {
          "output_type": "error",
          "ename": "FileNotFoundError",
          "evalue": "ignored",
          "traceback": [
            "\u001b[0;31m---------------------------------------------------------------------------\u001b[0m",
            "\u001b[0;31mFileNotFoundError\u001b[0m                         Traceback (most recent call last)",
            "\u001b[0;32m<ipython-input-7-164ac6c5f06f>\u001b[0m in \u001b[0;36m<module>\u001b[0;34m()\u001b[0m\n\u001b[1;32m      1\u001b[0m \u001b[0;31m# Read In Dataset\u001b[0m\u001b[0;34m\u001b[0m\u001b[0;34m\u001b[0m\u001b[0;34m\u001b[0m\u001b[0m\n\u001b[0;32m----> 2\u001b[0;31m \u001b[0mdf_budget\u001b[0m \u001b[0;34m=\u001b[0m \u001b[0mpd\u001b[0m\u001b[0;34m.\u001b[0m\u001b[0mread_csv\u001b[0m\u001b[0;34m(\u001b[0m\u001b[0;34m'data/tn.movie_budgets.csv'\u001b[0m\u001b[0;34m)\u001b[0m\u001b[0;34m\u001b[0m\u001b[0;34m\u001b[0m\u001b[0m\n\u001b[0m\u001b[1;32m      3\u001b[0m \u001b[0;34m\u001b[0m\u001b[0m\n\u001b[1;32m      4\u001b[0m \u001b[0;31m# Add New Columns With $$ As Int\u001b[0m\u001b[0;34m\u001b[0m\u001b[0;34m\u001b[0m\u001b[0;34m\u001b[0m\u001b[0m\n\u001b[1;32m      5\u001b[0m \u001b[0mdf_budget\u001b[0m\u001b[0;34m[\u001b[0m\u001b[0;34m'budget_int'\u001b[0m\u001b[0;34m]\u001b[0m \u001b[0;34m=\u001b[0m \u001b[0mdf_budget\u001b[0m\u001b[0;34m[\u001b[0m\u001b[0;34m'production_budget'\u001b[0m\u001b[0;34m]\u001b[0m\u001b[0;34m.\u001b[0m\u001b[0mmap\u001b[0m\u001b[0;34m(\u001b[0m\u001b[0mclean_money\u001b[0m\u001b[0;34m)\u001b[0m\u001b[0;34m\u001b[0m\u001b[0;34m\u001b[0m\u001b[0m\n",
            "\u001b[0;32m/usr/local/lib/python3.7/dist-packages/pandas/io/parsers.py\u001b[0m in \u001b[0;36mread_csv\u001b[0;34m(filepath_or_buffer, sep, delimiter, header, names, index_col, usecols, squeeze, prefix, mangle_dupe_cols, dtype, engine, converters, true_values, false_values, skipinitialspace, skiprows, skipfooter, nrows, na_values, keep_default_na, na_filter, verbose, skip_blank_lines, parse_dates, infer_datetime_format, keep_date_col, date_parser, dayfirst, cache_dates, iterator, chunksize, compression, thousands, decimal, lineterminator, quotechar, quoting, doublequote, escapechar, comment, encoding, dialect, error_bad_lines, warn_bad_lines, delim_whitespace, low_memory, memory_map, float_precision)\u001b[0m\n\u001b[1;32m    686\u001b[0m     )\n\u001b[1;32m    687\u001b[0m \u001b[0;34m\u001b[0m\u001b[0m\n\u001b[0;32m--> 688\u001b[0;31m     \u001b[0;32mreturn\u001b[0m \u001b[0m_read\u001b[0m\u001b[0;34m(\u001b[0m\u001b[0mfilepath_or_buffer\u001b[0m\u001b[0;34m,\u001b[0m \u001b[0mkwds\u001b[0m\u001b[0;34m)\u001b[0m\u001b[0;34m\u001b[0m\u001b[0;34m\u001b[0m\u001b[0m\n\u001b[0m\u001b[1;32m    689\u001b[0m \u001b[0;34m\u001b[0m\u001b[0m\n\u001b[1;32m    690\u001b[0m \u001b[0;34m\u001b[0m\u001b[0m\n",
            "\u001b[0;32m/usr/local/lib/python3.7/dist-packages/pandas/io/parsers.py\u001b[0m in \u001b[0;36m_read\u001b[0;34m(filepath_or_buffer, kwds)\u001b[0m\n\u001b[1;32m    452\u001b[0m \u001b[0;34m\u001b[0m\u001b[0m\n\u001b[1;32m    453\u001b[0m     \u001b[0;31m# Create the parser.\u001b[0m\u001b[0;34m\u001b[0m\u001b[0;34m\u001b[0m\u001b[0;34m\u001b[0m\u001b[0m\n\u001b[0;32m--> 454\u001b[0;31m     \u001b[0mparser\u001b[0m \u001b[0;34m=\u001b[0m \u001b[0mTextFileReader\u001b[0m\u001b[0;34m(\u001b[0m\u001b[0mfp_or_buf\u001b[0m\u001b[0;34m,\u001b[0m \u001b[0;34m**\u001b[0m\u001b[0mkwds\u001b[0m\u001b[0;34m)\u001b[0m\u001b[0;34m\u001b[0m\u001b[0;34m\u001b[0m\u001b[0m\n\u001b[0m\u001b[1;32m    455\u001b[0m \u001b[0;34m\u001b[0m\u001b[0m\n\u001b[1;32m    456\u001b[0m     \u001b[0;32mif\u001b[0m \u001b[0mchunksize\u001b[0m \u001b[0;32mor\u001b[0m \u001b[0miterator\u001b[0m\u001b[0;34m:\u001b[0m\u001b[0;34m\u001b[0m\u001b[0;34m\u001b[0m\u001b[0m\n",
            "\u001b[0;32m/usr/local/lib/python3.7/dist-packages/pandas/io/parsers.py\u001b[0m in \u001b[0;36m__init__\u001b[0;34m(self, f, engine, **kwds)\u001b[0m\n\u001b[1;32m    946\u001b[0m             \u001b[0mself\u001b[0m\u001b[0;34m.\u001b[0m\u001b[0moptions\u001b[0m\u001b[0;34m[\u001b[0m\u001b[0;34m\"has_index_names\"\u001b[0m\u001b[0;34m]\u001b[0m \u001b[0;34m=\u001b[0m \u001b[0mkwds\u001b[0m\u001b[0;34m[\u001b[0m\u001b[0;34m\"has_index_names\"\u001b[0m\u001b[0;34m]\u001b[0m\u001b[0;34m\u001b[0m\u001b[0;34m\u001b[0m\u001b[0m\n\u001b[1;32m    947\u001b[0m \u001b[0;34m\u001b[0m\u001b[0m\n\u001b[0;32m--> 948\u001b[0;31m         \u001b[0mself\u001b[0m\u001b[0;34m.\u001b[0m\u001b[0m_make_engine\u001b[0m\u001b[0;34m(\u001b[0m\u001b[0mself\u001b[0m\u001b[0;34m.\u001b[0m\u001b[0mengine\u001b[0m\u001b[0;34m)\u001b[0m\u001b[0;34m\u001b[0m\u001b[0;34m\u001b[0m\u001b[0m\n\u001b[0m\u001b[1;32m    949\u001b[0m \u001b[0;34m\u001b[0m\u001b[0m\n\u001b[1;32m    950\u001b[0m     \u001b[0;32mdef\u001b[0m \u001b[0mclose\u001b[0m\u001b[0;34m(\u001b[0m\u001b[0mself\u001b[0m\u001b[0;34m)\u001b[0m\u001b[0;34m:\u001b[0m\u001b[0;34m\u001b[0m\u001b[0;34m\u001b[0m\u001b[0m\n",
            "\u001b[0;32m/usr/local/lib/python3.7/dist-packages/pandas/io/parsers.py\u001b[0m in \u001b[0;36m_make_engine\u001b[0;34m(self, engine)\u001b[0m\n\u001b[1;32m   1178\u001b[0m     \u001b[0;32mdef\u001b[0m \u001b[0m_make_engine\u001b[0m\u001b[0;34m(\u001b[0m\u001b[0mself\u001b[0m\u001b[0;34m,\u001b[0m \u001b[0mengine\u001b[0m\u001b[0;34m=\u001b[0m\u001b[0;34m\"c\"\u001b[0m\u001b[0;34m)\u001b[0m\u001b[0;34m:\u001b[0m\u001b[0;34m\u001b[0m\u001b[0;34m\u001b[0m\u001b[0m\n\u001b[1;32m   1179\u001b[0m         \u001b[0;32mif\u001b[0m \u001b[0mengine\u001b[0m \u001b[0;34m==\u001b[0m \u001b[0;34m\"c\"\u001b[0m\u001b[0;34m:\u001b[0m\u001b[0;34m\u001b[0m\u001b[0;34m\u001b[0m\u001b[0m\n\u001b[0;32m-> 1180\u001b[0;31m             \u001b[0mself\u001b[0m\u001b[0;34m.\u001b[0m\u001b[0m_engine\u001b[0m \u001b[0;34m=\u001b[0m \u001b[0mCParserWrapper\u001b[0m\u001b[0;34m(\u001b[0m\u001b[0mself\u001b[0m\u001b[0;34m.\u001b[0m\u001b[0mf\u001b[0m\u001b[0;34m,\u001b[0m \u001b[0;34m**\u001b[0m\u001b[0mself\u001b[0m\u001b[0;34m.\u001b[0m\u001b[0moptions\u001b[0m\u001b[0;34m)\u001b[0m\u001b[0;34m\u001b[0m\u001b[0;34m\u001b[0m\u001b[0m\n\u001b[0m\u001b[1;32m   1181\u001b[0m         \u001b[0;32melse\u001b[0m\u001b[0;34m:\u001b[0m\u001b[0;34m\u001b[0m\u001b[0;34m\u001b[0m\u001b[0m\n\u001b[1;32m   1182\u001b[0m             \u001b[0;32mif\u001b[0m \u001b[0mengine\u001b[0m \u001b[0;34m==\u001b[0m \u001b[0;34m\"python\"\u001b[0m\u001b[0;34m:\u001b[0m\u001b[0;34m\u001b[0m\u001b[0;34m\u001b[0m\u001b[0m\n",
            "\u001b[0;32m/usr/local/lib/python3.7/dist-packages/pandas/io/parsers.py\u001b[0m in \u001b[0;36m__init__\u001b[0;34m(self, src, **kwds)\u001b[0m\n\u001b[1;32m   2008\u001b[0m         \u001b[0mkwds\u001b[0m\u001b[0;34m[\u001b[0m\u001b[0;34m\"usecols\"\u001b[0m\u001b[0;34m]\u001b[0m \u001b[0;34m=\u001b[0m \u001b[0mself\u001b[0m\u001b[0;34m.\u001b[0m\u001b[0musecols\u001b[0m\u001b[0;34m\u001b[0m\u001b[0;34m\u001b[0m\u001b[0m\n\u001b[1;32m   2009\u001b[0m \u001b[0;34m\u001b[0m\u001b[0m\n\u001b[0;32m-> 2010\u001b[0;31m         \u001b[0mself\u001b[0m\u001b[0;34m.\u001b[0m\u001b[0m_reader\u001b[0m \u001b[0;34m=\u001b[0m \u001b[0mparsers\u001b[0m\u001b[0;34m.\u001b[0m\u001b[0mTextReader\u001b[0m\u001b[0;34m(\u001b[0m\u001b[0msrc\u001b[0m\u001b[0;34m,\u001b[0m \u001b[0;34m**\u001b[0m\u001b[0mkwds\u001b[0m\u001b[0;34m)\u001b[0m\u001b[0;34m\u001b[0m\u001b[0;34m\u001b[0m\u001b[0m\n\u001b[0m\u001b[1;32m   2011\u001b[0m         \u001b[0mself\u001b[0m\u001b[0;34m.\u001b[0m\u001b[0munnamed_cols\u001b[0m \u001b[0;34m=\u001b[0m \u001b[0mself\u001b[0m\u001b[0;34m.\u001b[0m\u001b[0m_reader\u001b[0m\u001b[0;34m.\u001b[0m\u001b[0munnamed_cols\u001b[0m\u001b[0;34m\u001b[0m\u001b[0;34m\u001b[0m\u001b[0m\n\u001b[1;32m   2012\u001b[0m \u001b[0;34m\u001b[0m\u001b[0m\n",
            "\u001b[0;32mpandas/_libs/parsers.pyx\u001b[0m in \u001b[0;36mpandas._libs.parsers.TextReader.__cinit__\u001b[0;34m()\u001b[0m\n",
            "\u001b[0;32mpandas/_libs/parsers.pyx\u001b[0m in \u001b[0;36mpandas._libs.parsers.TextReader._setup_parser_source\u001b[0;34m()\u001b[0m\n",
            "\u001b[0;31mFileNotFoundError\u001b[0m: [Errno 2] No such file or directory: 'data/tn.movie_budgets.csv'"
          ]
        }
      ]
    },
    {
      "cell_type": "code",
      "metadata": {
        "id": "hZ-wcQJEpcrT"
      },
      "source": [
        "from google.colab import drive\n",
        "drive.mount('/content/drive')"
      ],
      "execution_count": null,
      "outputs": []
    },
    {
      "cell_type": "markdown",
      "metadata": {
        "id": "SSLkCamEknId"
      },
      "source": [
        "### Preparing IMDB Title Basics Dataset"
      ]
    },
    {
      "cell_type": "code",
      "metadata": {
        "id": "-W4B4VFtktSc"
      },
      "source": [
        "# Read In Dataset\n",
        "df_basics = pd.read_csv('data/imdb.title.basics.csv')\n",
        "\n",
        "# Drop Nan Values In Genres\n",
        "df_basics.dropna(subset=['genres'],inplace=True)\n",
        "\n",
        "# Add genre_lists Column\n",
        "df_basics['genre_lists'] = df_basics['genres'].map(lambda genres: genres.split(','))\n",
        "\n",
        "# Add main_genre Column\n",
        "df_basics['main_genre'] =  df_basics['genre_lists'].map(find_main_genre)\n",
        "\n",
        "# Drop Unneeded Columns\n",
        "df_basics.drop(['original_title','start_year','genres'],inplace=True, axis= 1)\n",
        "\n",
        "# Change primary_title Column To movie\n",
        "df_basics.rename({\"primary_title\":'movie'},axis=1,inplace=True)"
      ],
      "execution_count": null,
      "outputs": []
    },
    {
      "cell_type": "markdown",
      "metadata": {
        "id": "jAUdqElLk1au"
      },
      "source": [
        "### Preparing IMDB Ratings Dataset"
      ]
    },
    {
      "cell_type": "code",
      "metadata": {
        "id": "cqxYTdIhk64u"
      },
      "source": [
        "# Read In Dataset\n",
        "df_ratings = pd.read_csv('data/title.ratings.tsv', delimiter='\\t')\n",
        "\n",
        "# Drop Unneeded Columns\n",
        "df_ratings.drop(['numVotes'], inplace=True, axis= 1)\\\n",
        "\n",
        "# Cast averageRating To float\n",
        "df_ratings['averageRating'] = df_ratings['averageRating'].astype(float)"
      ],
      "execution_count": null,
      "outputs": []
    },
    {
      "cell_type": "markdown",
      "metadata": {
        "id": "Nvc0_2S-lDkN"
      },
      "source": [
        "### Preparing IMDB AKAS Dataset"
      ]
    },
    {
      "cell_type": "code",
      "metadata": {
        "id": "8JrSGrqNlHV7"
      },
      "source": [
        "# Read In Dataset\n",
        "df_akas = pd.read_csv('data/imdb.title.akas.csv')\n",
        "\n",
        "# Drop Unneeded Columns\n",
        "df_akas.drop(['attributes','ordering','language','types'],axis=1,inplace=True)\n",
        "\n",
        "# Change title_id To tconst\n",
        "df_akas.rename({'title_id':'tconst'},axis=1,inplace=True)"
      ],
      "execution_count": null,
      "outputs": []
    },
    {
      "cell_type": "markdown",
      "metadata": {
        "id": "9VcYZuKClJRg"
      },
      "source": [
        "### Preparing IMDB Crew Dataset"
      ]
    },
    {
      "cell_type": "code",
      "metadata": {
        "id": "f8WITI9hlODb"
      },
      "source": [
        "# Read In Dataset\n",
        "df_crew = pd.read_csv('data/title.crew.tsv',delimiter='\\t')\n",
        "\n",
        "# Drop Unneeded Columns\n",
        "df_crew.drop(['writers'],axis=1,inplace=True)"
      ],
      "execution_count": null,
      "outputs": []
    },
    {
      "cell_type": "markdown",
      "metadata": {
        "id": "RKten_rBlULn"
      },
      "source": [
        "### Preparing IMDB Names Dataset"
      ]
    },
    {
      "cell_type": "code",
      "metadata": {
        "id": "nrGBgiFzligT"
      },
      "source": [
        "# Read In Dataset\n",
        "df_names = pd.read_csv('data/imdb.name.basics.csv')\n",
        "\n",
        "# Drop Unneedeed Columns\n",
        "df_names.dropna(subset=['primary_profession'],inplace=True)\n",
        "\n",
        "# Only Keep People That Are Directors\n",
        "df_names['is_director'] = df_names['primary_profession'].map(identify_director)\n",
        "df_names = df_names[df_names['is_director'] == True]\n",
        "df_names = df_names.filter(['nconst','primary_name'],axis=1)\n",
        "df_names.rename({'nconst':'directors' , 'primary_name':'director_name'},axis=1,inplace=True)"
      ],
      "execution_count": null,
      "outputs": []
    },
    {
      "cell_type": "markdown",
      "metadata": {
        "id": "8ronDMGnmMPg"
      },
      "source": [
        "### Merging Datasets"
      ]
    },
    {
      "cell_type": "code",
      "metadata": {
        "id": "Qx-tTrzPmN-q"
      },
      "source": [
        "# Merges\n",
        "df_genre = df_budget_sorted.merge(df_basics,how='left',on='movie')\n",
        "df_genre_rating = df_genre.merge(df_ratings,how='left',on='tconst').copy(deep=True)\n",
        "df_genre_rating_akas = df_genre_rating.merge(df_akas,how='left',on='tconst').copy(deep=True)\n",
        "df_genre_rating_akas_crew = df_genre_rating_akas.merge(df_crew,how='left',on='tconst').copy(deep=True)\n",
        "\n",
        "\n",
        "# Drop Duplicates Based On movie Column\n",
        "df_genre.drop_duplicates('movie' , keep='first' , inplace=True)\n",
        "df_genre_rating.drop_duplicates('movie' , keep='first' , inplace=True)\n",
        "df_genre_rating_akas.drop_duplicates('movie' , keep='first' , inplace=True)\n",
        "df_genre_rating_akas_crew.drop_duplicates('movie' , keep='first' , inplace=True)"
      ],
      "execution_count": null,
      "outputs": []
    },
    {
      "cell_type": "markdown",
      "metadata": {
        "id": "OY1UoKt_mjBD"
      },
      "source": [
        "## Finding The Most Profitable Genre"
      ]
    },
    {
      "cell_type": "markdown",
      "metadata": {
        "id": "fEaLw9_6oqMi"
      },
      "source": [
        "### Code"
      ]
    },
    {
      "cell_type": "code",
      "metadata": {
        "id": "yYMIH5oYmqNe"
      },
      "source": [
        "# Drop Movies Without Genre Data\n",
        "df_genre.dropna(subset=['genre_lists'],inplace=True)\n",
        "\n",
        "# Reorder Column Names\n",
        "column_order = ['tconst','movie','release_year','runtime_minutes','budget_int','total_gross_int','gross_margin','genre_lists','main_genre']\n",
        "df_genre = df_genre[column_order]\n",
        "\n",
        "# Keep Only Top 20 main_genres (More Than 30 Movies In Genre Class)\n",
        "top_20_genres = list(df_genre['main_genre'].value_counts()[:20].index)\n",
        "df_genre = df_genre[df_genre['main_genre'].isin(top_20_genres)]\n",
        "\n",
        "# Sort Movies By Profitability\n",
        "df_genre.sort_values('gross_margin', ascending=False, inplace=True)\n",
        "\n",
        "# Remove Outliers (Keep Only Movies That Are Within Middle 80%)\n",
        "median_ = df_genre['gross_margin'].median()\n",
        "IQR_ = df_genre['gross_margin'].quantile(.90) - df_genre['gross_margin'].quantile(.10)\n",
        "df_genre = df_genre[(df_genre['gross_margin'] >= median_ - IQR_) & (df_genre['gross_margin'] <= median_ + IQR_)]\n",
        "\n",
        "# Get The Standard Deviation For Movies Made 2000 or Later By Genre\n",
        "df_genre_grouped_std = df_genre[df_genre['release_year'] >= 2000].groupby('main_genre').std().filter(['main_genre','gross_margin'])\n",
        "df_genre_grouped_std.rename({'gross_margin':'gm%_std'},inplace=True,axis=1)\n",
        "\n",
        "# Get The Min Gross Margin For Movies Made 2000 or Later By Genre\n",
        "df_genre_grouped_min = df_genre[df_genre['release_year'] >= 2000].groupby('main_genre').min().filter(['main_genre','gross_margin'])\n",
        "df_genre_grouped_min.rename({'gross_margin':'gm%_min'},inplace=True,axis=1)\n",
        "\n",
        "# Get The Max Gross Margin For Movies Made 2000 or Later By Genre\n",
        "df_genre_grouped_max = df_genre[df_genre['release_year'] >= 2000].groupby('main_genre').max().filter(['main_genre','gross_margin'])\n",
        "df_genre_grouped_max.rename({'gross_margin':'gm%_max'},inplace=True,axis=1)\n",
        "\n",
        "#Get The Mean Gross Margins For Movies Made 2000 Or Later By Genre\n",
        "df_genre_grouped = df_genre[df_genre['release_year'] >= 2000].groupby('main_genre').mean().filter(['main_genre','gross_margin'])\n",
        "\n",
        "# Add the Min, Median and Max Columns to Main Grouped Dataset\n",
        "df_genre_final = df_genre_grouped_std.join(df_genre_grouped,on='main_genre')\n",
        "df_genre_final = df_genre_grouped_min.join(df_genre_final,on='main_genre')\n",
        "df_genre_final = df_genre_grouped_max.join(df_genre_final,on='main_genre')\n",
        "df_genre_final = df_genre_final.sort_values('gross_margin',ascending=True)"
      ],
      "execution_count": null,
      "outputs": []
    },
    {
      "cell_type": "markdown",
      "metadata": {
        "id": "tDznsS8snKc3"
      },
      "source": [
        "### Plotting Profitability By Genre"
      ]
    },
    {
      "cell_type": "code",
      "metadata": {
        "id": "YuNwK75SnOjT"
      },
      "source": [
        "# Plotting\n",
        "fig, axes = plt.subplots()\n",
        "df_genre_final.filter(items=['gm%_min','gross_margin','gm%_max'])[::-1].plot(kind='bar',\n",
        "                      figsize= (20,12),xlabel='Genre',ylabel = 'Gross Margin (%)',\n",
        "                      title = 'Profitability Of Top 20 Most Common Movie Genres',\n",
        "                      ax=axes,label='Medain GM%',color=['Red','Black','Green'])\n",
        "\n",
        "# plt.ylim(-50,100)\n",
        "axes.legend(labels=['Lowest Profitable Movie In Genre','Median Profitability of Genre','Highest Profitable Movie In Genre'])\n",
        "plt.xticks(rotation=60)\n",
        "plt.show()"
      ],
      "execution_count": null,
      "outputs": []
    },
    {
      "cell_type": "markdown",
      "metadata": {
        "id": "4hjrQ9cFnV7-"
      },
      "source": [
        "### Plotting Median Genre Profitability With Standard Deviation"
      ]
    },
    {
      "cell_type": "code",
      "metadata": {
        "id": "vG3JW9QInXak"
      },
      "source": [
        "plot_ = df_genre_final['gross_margin'][::-1].plot(kind='bar',xlabel='Genre',ylabel = 'Gross Margin (%)',\n",
        "                                                  title = 'Median Profitability Of Top 20 Most Common Movie Genres',\n",
        "                                                  yerr=df_genre_final['gm%_std'],figsize=(20,12))"
      ],
      "execution_count": null,
      "outputs": []
    },
    {
      "cell_type": "markdown",
      "metadata": {
        "id": "tUk2pRpenqwQ"
      },
      "source": [
        "### Plotting Profitability v Movie Budget"
      ]
    },
    {
      "cell_type": "code",
      "metadata": {
        "id": "2DJfrDc1nt5l"
      },
      "source": [
        "# Keep Only Movies That Are Within Inner 80%\n",
        "median_r = df_genre_rating_akas['gross_margin'].median()\n",
        "IQR_r = df_genre_rating_akas['gross_margin'].quantile(.90) - df_genre_rating_akas['gross_margin'].quantile(.10)\n",
        "df_genre_rating_akas = df_genre_rating_akas[(df_genre_rating_akas['gross_margin'] >= median_r - IQR_r) & (df_genre_rating_akas['gross_margin'] <= median_r + IQR_r)].copy(deep=True)\n",
        "\n",
        "# Add Gross Margin Dollars Column\n",
        "df_genre_rating_akas[\"gross_margin_dollars\"] = df_genre_rating_akas['total_gross_int'] - df_genre_rating_akas['budget_int']"
      ],
      "execution_count": null,
      "outputs": []
    },
    {
      "cell_type": "code",
      "metadata": {
        "id": "SkY4-3oan4Zx"
      },
      "source": [
        "# Plotting\n",
        "fig, axes = plt.subplots(nrows=2,ncols=2)\n",
        "fig.set_figheight(12)\n",
        "fig.set_figwidth(20)\n",
        "\n",
        "horror_list = ['Horror/Mystery']\n",
        "adventure_list = ['Adventure/Comedy']\n",
        "comedy_list = ['Comedy/Romance']\n",
        "action_list = ['Action/Adventure']\n",
        "\n",
        "df_genre_rating_akas[df_genre_rating_akas['release_year'] >= 2000].plot(ax=axes[0,0],kind='scatter' , x='budget_int' , y ='gross_margin',layout=(2,2))\n",
        "df_genre_rating_akas[(df_genre_rating_akas['release_year'] >= 2000) & (df_genre_rating_akas['main_genre'].isin(horror_list))].plot(ax=axes[0,0],kind='scatter',x='budget_int',y='gross_margin',color='DarkOrange',label='Horror/Mystery')\n",
        "\n",
        "df_genre_rating_akas[df_genre_rating_akas['release_year'] >= 2000].plot(ax=axes[0,1],kind='scatter' , x='budget_int' , y ='gross_margin',layout=(2,2))\n",
        "df_genre_rating_akas[(df_genre_rating_akas['release_year'] >= 2000) & (df_genre_rating_akas['main_genre'].isin(adventure_list))].plot(ax=axes[0,1],kind='scatter',x='budget_int',y='gross_margin',color='DarkGreen',label='Adventure/Comedy')\n",
        "\n",
        "df_genre_rating_akas[df_genre_rating_akas['release_year'] >= 2000].plot(ax=axes[1,0],kind='scatter' , x='budget_int' , y ='gross_margin',layout=(2,2))\n",
        "df_genre_rating_akas[(df_genre_rating_akas['release_year'] >= 2000) & (df_genre_rating_akas['main_genre'].isin(comedy_list))].plot(ax=axes[1,0],kind='scatter',x='budget_int',y='gross_margin',color='DarkRed',label='Comedy/Romance')\n",
        "\n",
        "df_genre_rating_akas[df_genre_rating_akas['release_year'] >= 2000].plot(ax=axes[1,1],kind='scatter' , x='budget_int' , y ='gross_margin',layout=(2,2))\n",
        "df_genre_rating_akas[(df_genre_rating_akas['release_year'] >= 2000) & (df_genre_rating_akas['main_genre'].isin(action_list))].plot(ax=axes[1,1],kind='scatter',x='budget_int',y='gross_margin',color='Yellow',label='Action/Adventure')\n",
        "\n",
        "fig.suptitle('Profitability (%GM) vs Movie Budget (USD)',fontsize=20)\n",
        "for i in range(2):\n",
        "    for j in range(2):\n",
        "        axes[i,j].set_ylabel('Profitability (%GM)')\n",
        "        axes[i,j].set_xlabel('Movie Budget (USD)')\n",
        "plt.show()"
      ],
      "execution_count": null,
      "outputs": []
    },
    {
      "cell_type": "markdown",
      "metadata": {
        "id": "g5aeY_FHoCHz"
      },
      "source": [
        "### Example Horror/Mystery Movies"
      ]
    },
    {
      "cell_type": "code",
      "metadata": {
        "id": "lAKKsuPZoGmn"
      },
      "source": [
        "# Drop Movies With No Info On Directors\n",
        "df_genre_rating_akas_crew.dropna(subset=['directors'],inplace=True)\n",
        "\n",
        "# Swap Director ID For Director Name\n",
        "df_director = df_genre_rating_akas_crew.merge(df_names,how='left',on='directors').copy(deep=True)\n",
        "df_director.dropna(subset=['director_name'],inplace=True)\n",
        "\n",
        "# Filter Movies For Only Horror/Mystery\n",
        "horror_list = ['Horror/Mystery']\n",
        "df_director = df_director[df_director['main_genre'].isin(horror_list)]"
      ],
      "execution_count": null,
      "outputs": []
    },
    {
      "cell_type": "code",
      "metadata": {
        "id": "emG4nbNpoM2u"
      },
      "source": [
        "# Cleanup df_director (Keep Relevant Columns)\n",
        "df_director_final = df_director.sort_values(['total_gross_int','gross_margin'],ascending=False).head(20).filter(['movie','budget_int','total_gross_int','gross_margin','release_year','averageRating','director_name']).copy(deep=True)\n",
        "\n",
        "# Change Money Back To str In USD\n",
        "df_director_final['budget_int'] = df_director_final['budget_int'].map(dirty_money)\n",
        "df_director_final['total_gross_int'] = df_director_final['total_gross_int'].map(dirty_money)\n",
        "\n",
        "# Clean Up Column Names For Readability\n",
        "df_director_final.columns = ['Movie Title', 'Budget (USD)', 'Total Gross (USD)', 'Profitability (GM%)', 'Release Year', 'Average IMDB Rating', 'Director']"
      ],
      "execution_count": null,
      "outputs": []
    },
    {
      "cell_type": "code",
      "metadata": {
        "id": "bYJ6m2eroXgD"
      },
      "source": [
        "df_director_final.head(10)"
      ],
      "execution_count": null,
      "outputs": []
    }
  ]
}