{
 "cells": [
  {
   "cell_type": "code",
   "execution_count": 1,
   "source": [
    "from matplotlib import pyplot as plt\n",
    "from IPython import display\n",
    "import pandas as pd\n",
    "import numpy as np\n",
    "import csv\n",
    "import sqlite3"
   ],
   "outputs": [],
   "metadata": {
    "id": "dmi6Pf-zhYAY"
   }
  },
  {
   "cell_type": "markdown",
   "source": [
    "# Proof of Concept Goal - Show Studio Can Be Successful At Turning A Profit\n",
    "\n",
    "Accomplishing this goal involves looking at types of movies that lend themselves to high profitability. In addition, partnering with another succesful studio that is experienced in making these types of movies will help to lay the framework for the new studio's success.\n",
    "\n",
    "***The Bottom Line*** - Demonstrating profitability at the start will encourage studios, producers, filmcrew and actors to participate in future projects. \n",
    "\n",
    "* Genre Profitability\n",
    "* Profitability v Movie Budget\n",
    "* Example of Movies Fitting This Model\n",
    "\n",
    "Genre is the best way to breakdown types of movies as it can define the entire production process. For example, below are some of the top grossing movies for the Action/Adventure/Sci-Fi genre:"
   ],
   "metadata": {
    "id": "-HnMPkoJg_xN"
   }
  },
  {
   "cell_type": "code",
   "execution_count": 2,
   "source": [
    "df_action = pd.read_csv('data/idea1_only_aas.csv')\n",
    "df_action.loc[:10 ,'Movie Title':]"
   ],
   "outputs": [
    {
     "output_type": "execute_result",
     "data": {
      "text/html": [
       "<div>\n",
       "<style scoped>\n",
       "    .dataframe tbody tr th:only-of-type {\n",
       "        vertical-align: middle;\n",
       "    }\n",
       "\n",
       "    .dataframe tbody tr th {\n",
       "        vertical-align: top;\n",
       "    }\n",
       "\n",
       "    .dataframe thead th {\n",
       "        text-align: right;\n",
       "    }\n",
       "</style>\n",
       "<table border=\"1\" class=\"dataframe\">\n",
       "  <thead>\n",
       "    <tr style=\"text-align: right;\">\n",
       "      <th></th>\n",
       "      <th>Movie Title</th>\n",
       "      <th>Budget (USD)</th>\n",
       "      <th>Total Gross (USD)</th>\n",
       "      <th>Profitability (GM%)</th>\n",
       "      <th>Release Year</th>\n",
       "      <th>Average IMDB Rating</th>\n",
       "      <th>Director</th>\n",
       "    </tr>\n",
       "  </thead>\n",
       "  <tbody>\n",
       "    <tr>\n",
       "      <th>0</th>\n",
       "      <td>Jurassic World</td>\n",
       "      <td>$215,000,000</td>\n",
       "      <td>$2,301,125,489</td>\n",
       "      <td>90.66</td>\n",
       "      <td>2015</td>\n",
       "      <td>7.0</td>\n",
       "      <td>Colin Trevorrow</td>\n",
       "    </tr>\n",
       "    <tr>\n",
       "      <th>1</th>\n",
       "      <td>The Avengers</td>\n",
       "      <td>$225,000,000</td>\n",
       "      <td>$2,141,215,444</td>\n",
       "      <td>89.49</td>\n",
       "      <td>2012</td>\n",
       "      <td>8.0</td>\n",
       "      <td>Joss Whedon</td>\n",
       "    </tr>\n",
       "    <tr>\n",
       "      <th>2</th>\n",
       "      <td>Black Panther</td>\n",
       "      <td>$200,000,000</td>\n",
       "      <td>$2,048,317,790</td>\n",
       "      <td>90.24</td>\n",
       "      <td>2018</td>\n",
       "      <td>7.3</td>\n",
       "      <td>Ryan Coogler</td>\n",
       "    </tr>\n",
       "    <tr>\n",
       "      <th>3</th>\n",
       "      <td>Avengers: Age of Ultron</td>\n",
       "      <td>$330,600,000</td>\n",
       "      <td>$1,862,019,831</td>\n",
       "      <td>82.25</td>\n",
       "      <td>2015</td>\n",
       "      <td>7.3</td>\n",
       "      <td>Joss Whedon</td>\n",
       "    </tr>\n",
       "    <tr>\n",
       "      <th>4</th>\n",
       "      <td>Jurassic World: Fallen Kingdom</td>\n",
       "      <td>$170,000,000</td>\n",
       "      <td>$1,723,492,559</td>\n",
       "      <td>90.14</td>\n",
       "      <td>2018</td>\n",
       "      <td>6.2</td>\n",
       "      <td>J.A. Bayona</td>\n",
       "    </tr>\n",
       "    <tr>\n",
       "      <th>5</th>\n",
       "      <td>Iron Man 3</td>\n",
       "      <td>$200,000,000</td>\n",
       "      <td>$1,624,384,544</td>\n",
       "      <td>87.69</td>\n",
       "      <td>2013</td>\n",
       "      <td>7.1</td>\n",
       "      <td>Shane Black</td>\n",
       "    </tr>\n",
       "    <tr>\n",
       "      <th>6</th>\n",
       "      <td>Rogue One: A Star Wars Story</td>\n",
       "      <td>$200,000,000</td>\n",
       "      <td>$1,581,280,180</td>\n",
       "      <td>87.35</td>\n",
       "      <td>2016</td>\n",
       "      <td>7.8</td>\n",
       "      <td>Gareth Edwards</td>\n",
       "    </tr>\n",
       "    <tr>\n",
       "      <th>7</th>\n",
       "      <td>Transformers: Dark of the Moon</td>\n",
       "      <td>$195,000,000</td>\n",
       "      <td>$1,476,181,086</td>\n",
       "      <td>86.79</td>\n",
       "      <td>2011</td>\n",
       "      <td>6.2</td>\n",
       "      <td>Michael Bay</td>\n",
       "    </tr>\n",
       "    <tr>\n",
       "      <th>8</th>\n",
       "      <td>Transformers: Age of Extinction</td>\n",
       "      <td>$210,000,000</td>\n",
       "      <td>$1,349,478,152</td>\n",
       "      <td>84.44</td>\n",
       "      <td>2014</td>\n",
       "      <td>5.6</td>\n",
       "      <td>Michael Bay</td>\n",
       "    </tr>\n",
       "    <tr>\n",
       "      <th>9</th>\n",
       "      <td>The Hunger Games: Catching Fire</td>\n",
       "      <td>$130,000,000</td>\n",
       "      <td>$1,289,536,094</td>\n",
       "      <td>89.92</td>\n",
       "      <td>2013</td>\n",
       "      <td>7.5</td>\n",
       "      <td>Francis Lawrence</td>\n",
       "    </tr>\n",
       "    <tr>\n",
       "      <th>10</th>\n",
       "      <td>Spider-Man: Homecoming</td>\n",
       "      <td>$175,000,000</td>\n",
       "      <td>$1,214,367,490</td>\n",
       "      <td>85.59</td>\n",
       "      <td>2017</td>\n",
       "      <td>7.4</td>\n",
       "      <td>Jon Watts</td>\n",
       "    </tr>\n",
       "  </tbody>\n",
       "</table>\n",
       "</div>"
      ],
      "text/plain": [
       "                        Movie Title  Budget (USD) Total Gross (USD)  \\\n",
       "0                    Jurassic World  $215,000,000    $2,301,125,489   \n",
       "1                      The Avengers  $225,000,000    $2,141,215,444   \n",
       "2                     Black Panther  $200,000,000    $2,048,317,790   \n",
       "3           Avengers: Age of Ultron  $330,600,000    $1,862,019,831   \n",
       "4    Jurassic World: Fallen Kingdom  $170,000,000    $1,723,492,559   \n",
       "5                        Iron Man 3  $200,000,000    $1,624,384,544   \n",
       "6      Rogue One: A Star Wars Story  $200,000,000    $1,581,280,180   \n",
       "7    Transformers: Dark of the Moon  $195,000,000    $1,476,181,086   \n",
       "8   Transformers: Age of Extinction  $210,000,000    $1,349,478,152   \n",
       "9   The Hunger Games: Catching Fire  $130,000,000    $1,289,536,094   \n",
       "10           Spider-Man: Homecoming  $175,000,000    $1,214,367,490   \n",
       "\n",
       "    Profitability (GM%)  Release Year  Average IMDB Rating          Director  \n",
       "0                 90.66          2015                  7.0   Colin Trevorrow  \n",
       "1                 89.49          2012                  8.0       Joss Whedon  \n",
       "2                 90.24          2018                  7.3      Ryan Coogler  \n",
       "3                 82.25          2015                  7.3       Joss Whedon  \n",
       "4                 90.14          2018                  6.2       J.A. Bayona  \n",
       "5                 87.69          2013                  7.1       Shane Black  \n",
       "6                 87.35          2016                  7.8    Gareth Edwards  \n",
       "7                 86.79          2011                  6.2       Michael Bay  \n",
       "8                 84.44          2014                  5.6       Michael Bay  \n",
       "9                 89.92          2013                  7.5  Francis Lawrence  \n",
       "10                85.59          2017                  7.4         Jon Watts  "
      ]
     },
     "metadata": {},
     "execution_count": 2
    }
   ],
   "metadata": {}
  },
  {
   "cell_type": "markdown",
   "source": [
    "Immediately what comes to mind are elaborate film sets, stunt teams and a star-studded cast. These requirements keep a production budget relatively high compared to other genres. In contrast, Compare this to top grosing movies from the Adventure/Animation/Comedy genre:"
   ],
   "metadata": {}
  },
  {
   "cell_type": "code",
   "execution_count": 3,
   "source": [
    "df_anim = pd.read_csv('data/idea1_only_aac.csv')\n",
    "df_anim.loc[:10 ,'Movie Title':]"
   ],
   "outputs": [
    {
     "output_type": "execute_result",
     "data": {
      "text/html": [
       "<div>\n",
       "<style scoped>\n",
       "    .dataframe tbody tr th:only-of-type {\n",
       "        vertical-align: middle;\n",
       "    }\n",
       "\n",
       "    .dataframe tbody tr th {\n",
       "        vertical-align: top;\n",
       "    }\n",
       "\n",
       "    .dataframe thead th {\n",
       "        text-align: right;\n",
       "    }\n",
       "</style>\n",
       "<table border=\"1\" class=\"dataframe\">\n",
       "  <thead>\n",
       "    <tr style=\"text-align: right;\">\n",
       "      <th></th>\n",
       "      <th>Movie Title</th>\n",
       "      <th>Budget (USD)</th>\n",
       "      <th>Total Gross (USD)</th>\n",
       "      <th>Profitability (GM%)</th>\n",
       "      <th>Release Year</th>\n",
       "      <th>Average IMDB Rating</th>\n",
       "      <th>Director</th>\n",
       "    </tr>\n",
       "  </thead>\n",
       "  <tbody>\n",
       "    <tr>\n",
       "      <th>0</th>\n",
       "      <td>Monsters University</td>\n",
       "      <td>$200,000,000</td>\n",
       "      <td>$1,012,076,658</td>\n",
       "      <td>80.24</td>\n",
       "      <td>2013</td>\n",
       "      <td>7.2</td>\n",
       "      <td>Dan Scanlon</td>\n",
       "    </tr>\n",
       "    <tr>\n",
       "      <th>1</th>\n",
       "      <td>Shrek Forever After</td>\n",
       "      <td>$165,000,000</td>\n",
       "      <td>$994,981,460</td>\n",
       "      <td>83.42</td>\n",
       "      <td>2010</td>\n",
       "      <td>6.3</td>\n",
       "      <td>Mike Mitchell</td>\n",
       "    </tr>\n",
       "    <tr>\n",
       "      <th>2</th>\n",
       "      <td>The Smurfs</td>\n",
       "      <td>$110,000,000</td>\n",
       "      <td>$706,363,481</td>\n",
       "      <td>84.43</td>\n",
       "      <td>2011</td>\n",
       "      <td>5.4</td>\n",
       "      <td>Raja Gosnell</td>\n",
       "    </tr>\n",
       "    <tr>\n",
       "      <th>3</th>\n",
       "      <td>Hotel Transylvania 3: Summer Vacation</td>\n",
       "      <td>$65,000,000</td>\n",
       "      <td>$694,580,054</td>\n",
       "      <td>90.64</td>\n",
       "      <td>2018</td>\n",
       "      <td>6.3</td>\n",
       "      <td>Genndy Tartakovsky</td>\n",
       "    </tr>\n",
       "    <tr>\n",
       "      <th>4</th>\n",
       "      <td>Wreck-It Ralph</td>\n",
       "      <td>$165,000,000</td>\n",
       "      <td>$685,924,198</td>\n",
       "      <td>75.94</td>\n",
       "      <td>2012</td>\n",
       "      <td>7.7</td>\n",
       "      <td>Rich Moore</td>\n",
       "    </tr>\n",
       "    <tr>\n",
       "      <th>5</th>\n",
       "      <td>Rio</td>\n",
       "      <td>$90,000,000</td>\n",
       "      <td>$631,139,618</td>\n",
       "      <td>85.74</td>\n",
       "      <td>2011</td>\n",
       "      <td>6.9</td>\n",
       "      <td>Carlos Saldanha</td>\n",
       "    </tr>\n",
       "    <tr>\n",
       "      <th>6</th>\n",
       "      <td>Rio 2</td>\n",
       "      <td>$130,000,000</td>\n",
       "      <td>$624,384,726</td>\n",
       "      <td>79.18</td>\n",
       "      <td>2014</td>\n",
       "      <td>6.3</td>\n",
       "      <td>Carlos Saldanha</td>\n",
       "    </tr>\n",
       "    <tr>\n",
       "      <th>7</th>\n",
       "      <td>Home</td>\n",
       "      <td>$130,000,000</td>\n",
       "      <td>$563,395,406</td>\n",
       "      <td>76.93</td>\n",
       "      <td>2015</td>\n",
       "      <td>6.6</td>\n",
       "      <td>Tim Johnson</td>\n",
       "    </tr>\n",
       "    <tr>\n",
       "      <th>8</th>\n",
       "      <td>Alvin and the Chipmunks: Chipwrecked</td>\n",
       "      <td>$80,000,000</td>\n",
       "      <td>$482,195,912</td>\n",
       "      <td>83.41</td>\n",
       "      <td>2011</td>\n",
       "      <td>4.3</td>\n",
       "      <td>Mike Mitchell</td>\n",
       "    </tr>\n",
       "    <tr>\n",
       "      <th>9</th>\n",
       "      <td>The Smurfs 2</td>\n",
       "      <td>$110,000,000</td>\n",
       "      <td>$419,565,307</td>\n",
       "      <td>73.78</td>\n",
       "      <td>2013</td>\n",
       "      <td>5.3</td>\n",
       "      <td>Raja Gosnell</td>\n",
       "    </tr>\n",
       "    <tr>\n",
       "      <th>10</th>\n",
       "      <td>Mr. Peabody &amp; Sherman</td>\n",
       "      <td>$145,000,000</td>\n",
       "      <td>$381,312,860</td>\n",
       "      <td>61.97</td>\n",
       "      <td>2014</td>\n",
       "      <td>6.8</td>\n",
       "      <td>Rob Minkoff</td>\n",
       "    </tr>\n",
       "  </tbody>\n",
       "</table>\n",
       "</div>"
      ],
      "text/plain": [
       "                              Movie Title  Budget (USD) Total Gross (USD)  \\\n",
       "0                     Monsters University  $200,000,000    $1,012,076,658   \n",
       "1                     Shrek Forever After  $165,000,000      $994,981,460   \n",
       "2                              The Smurfs  $110,000,000      $706,363,481   \n",
       "3   Hotel Transylvania 3: Summer Vacation   $65,000,000      $694,580,054   \n",
       "4                          Wreck-It Ralph  $165,000,000      $685,924,198   \n",
       "5                                     Rio   $90,000,000      $631,139,618   \n",
       "6                                   Rio 2  $130,000,000      $624,384,726   \n",
       "7                                    Home  $130,000,000      $563,395,406   \n",
       "8    Alvin and the Chipmunks: Chipwrecked   $80,000,000      $482,195,912   \n",
       "9                            The Smurfs 2  $110,000,000      $419,565,307   \n",
       "10                  Mr. Peabody & Sherman  $145,000,000      $381,312,860   \n",
       "\n",
       "    Profitability (GM%)  Release Year  Average IMDB Rating            Director  \n",
       "0                 80.24          2013                  7.2         Dan Scanlon  \n",
       "1                 83.42          2010                  6.3       Mike Mitchell  \n",
       "2                 84.43          2011                  5.4        Raja Gosnell  \n",
       "3                 90.64          2018                  6.3  Genndy Tartakovsky  \n",
       "4                 75.94          2012                  7.7          Rich Moore  \n",
       "5                 85.74          2011                  6.9     Carlos Saldanha  \n",
       "6                 79.18          2014                  6.3     Carlos Saldanha  \n",
       "7                 76.93          2015                  6.6         Tim Johnson  \n",
       "8                 83.41          2011                  4.3       Mike Mitchell  \n",
       "9                 73.78          2013                  5.3        Raja Gosnell  \n",
       "10                61.97          2014                  6.8         Rob Minkoff  "
      ]
     },
     "metadata": {},
     "execution_count": 3
    }
   ],
   "metadata": {}
  },
  {
   "cell_type": "markdown",
   "source": [
    "Most animated films require no physical set and no stunt team. A lot of an animated film's budget will go into the animation and modeling of the movie versus the cast budget. On average the budget for an animated movie will be lower than that of an Action/Adventure/Sci-Fi movie."
   ],
   "metadata": {}
  },
  {
   "cell_type": "code",
   "execution_count": 4,
   "source": [
    "def clean_money(budget):\n",
    "    '''\n",
    "    Take money value stored as string and convert to integer\n",
    "    '''\n",
    "    split_list = budget.split(',')\n",
    "    split_list[0] = split_list[0][1:]\n",
    "    answer = ''\n",
    "    for part in split_list:\n",
    "        answer += part\n",
    "\n",
    "    return int(answer)\n",
    "\n",
    "print(f'Mean of Top Action/Adventure/Sci-fi Production Budgets: ${df_action[\"Budget (USD)\"].map(clean_money).mean() / 1_000_000} million')\n",
    "print(f'Mean of Top Adventure/Animation/Comedy Production Budgets: ${df_anim[\"Budget (USD)\"].map(clean_money).mean() / 1_000_000} million')"
   ],
   "outputs": [
    {
     "output_type": "stream",
     "name": "stdout",
     "text": [
      "Mean of Top Action/Adventure/Sci-fi Production Budgets: $191.88 million\n",
      "Mean of Top Adventure/Animation/Comedy Production Budgets: $111.4 million\n"
     ]
    }
   ],
   "metadata": {}
  },
  {
   "cell_type": "markdown",
   "source": [
    "These defining differences between genres are not just between vastly different types like animation and action. They also exist within the genre subsets. For example, the adventure/animation/comedy genre has the highest average budget when compared to other genre amalgams that include animation. \n",
    "\n",
    "It's important to note that these genre labels with multiple are not grouping together of the individual genres. Instead, each genre is being used as a descriptor to create a brand new, more specific genre.This leads to the importance of genre specificity."
   ],
   "metadata": {}
  },
  {
   "cell_type": "markdown",
   "source": [
    "### Genre Specificity:\n",
    "\n",
    "Gone are the days of single genre movies. It is impossible to group movies by a single genre name (i.e Action, Animation, Comedy, Drama, Romance). There is a difference between *The Notebook* and *50 First Dates*. One is a Romantic/Drama and the other is a Romantic/Comedy. These movies are created differently, marketed differently and viewed by different audiences.\n",
    "\n",
    "<div class='center'>\n",
    "<img src='https://m.media-amazon.com/images/M/MV5BMTk3OTM5Njg5M15BMl5BanBnXkFtZTYwMzA0ODI3._V1_.jpg' style='width:200px;'/>  <img src='https://www.kindpng.com/picc/m/10-103391_is-not-equal-to-mathematical-symbol-not-equal.png' style='width:50px;'/> <img src='https://upload.wikimedia.org/wikipedia/en/9/9d/50FirstDates.jpg', style='width:200px;'/>\n",
    "</div>"
   ],
   "metadata": {}
  },
  {
   "cell_type": "markdown",
   "source": [
    "### Viewing Production Budget as A Source of Risk:\n",
    "\n",
    "\"*It takes money to make money.*\" - Sol Luckman\n",
    "\n",
    "The above saying carries a lot of weight. As seen in the results below, a higher production budget equates to a higher gross income. However, the business decision as defined at the start is not looking for highest gross income but highest profitability. In this case, production budget now serves as a source of risk. The higher the production budget the more money is being risked on the film.\n",
    "\n",
    "The goal is proof of concept - can the studio make a profitable movie."
   ],
   "metadata": {}
  },
  {
   "cell_type": "markdown",
   "source": [
    "## Data Exploration"
   ],
   "metadata": {}
  },
  {
   "cell_type": "markdown",
   "source": [
    "The primary data sources came from [IMDB Datasets](https://datasets.imdbws.com/) and [Box Office Mojo by IMDB](https://help.imdb.com/article/imdbpro/industry-research/box-office-mojo-by-imdbpro-faq/GCWTV4MQKGWRAUAP?ref_=mojo_ftr_help#).\n",
    "\n",
    "The data columns important to this business decision are:\n",
    "* ```Production Budget```\n",
    "* ```Total Gross Income```\n",
    "* ```Genre```\n",
    "* ```Studio Name```\n",
    "* ```Movie Title```\n",
    "* ```Director Name```"
   ],
   "metadata": {}
  },
  {
   "cell_type": "markdown",
   "source": [
    "## Data Cleaning"
   ],
   "metadata": {}
  },
  {
   "cell_type": "markdown",
   "source": [
    "For this decision there were some restrictions placed on the datasets to better represent the current film-making environment.\n",
    "\n",
    "**Only movies with:**\n",
    "\n",
    "* Production Budget and Total Gross Income Data\n",
    "* A Recent Release Date (2000 or Later)\n",
    "* A Common Genre (Having 20 or More Movies Released Since 2000)\n",
    "\n",
    "      - Common Genres - Action/Adventure/Sci-Fi, Adventure/Animation/Comedy, Comedy/Romance\n",
    "      - Uncommon Genres - Crime/Drama/Musical, Comedy/Documentary/Horror\n",
    "\n",
    "The data was also restricted to an IQR of 80% with respect to profitability which is defined in the Feature Exploration section. The cleaning process can be found in the appendix folder."
   ],
   "metadata": {}
  },
  {
   "cell_type": "markdown",
   "source": [
    "## Feature Exploration"
   ],
   "metadata": {}
  },
  {
   "cell_type": "markdown",
   "source": [
    "Profitability is the key feature when looking at a business' financial health. Operating at a loss will ensure a swift end. For this study Profitability will be defined as Percent Gross Margin.\n",
    "\n",
    "### Profitability:\n",
    "\n",
    "Define Profitability as Percent Gross Margin ($ GM $%).\n",
    "\n",
    "$ GM $% $ = \\frac{I - B}{B} $\n",
    "\n",
    "Where:\n",
    "\n",
    "$ I = $ Total Gross Income\n",
    "\n",
    "$ B = $ Budget\n",
    "\n",
    "### Profitability Explained:\n",
    "\n",
    "In words, Profitability is what percent of every dollar made is above the cost. The max Profitability a movie can have is 100% (all profit and no costs). There is no limit on the lower end of Profitability. For Example, if a movie that cost $1,000,000 to make only makes $750,000 that would be a Profitability of -33% or a profit loss. The higher the production budget and the lower the gross income, the lower the Profitability."
   ],
   "metadata": {}
  },
  {
   "cell_type": "markdown",
   "source": [
    "## Data Analysis"
   ],
   "metadata": {}
  },
  {
   "cell_type": "markdown",
   "source": [
    "From the IMDB and Budget datasets, two final datasets were created:\n",
    "\n",
    "* The Genre Dataset - compares genre, profitability, budget and director - each row is a movie\n",
    "* The Studio Dataset - compares studio and total gross income - each row is a movie"
   ],
   "metadata": {}
  },
  {
   "cell_type": "markdown",
   "source": [
    "### Profitability and Production Budget By Genre"
   ],
   "metadata": {
    "id": "tDznsS8snKc3"
   }
  },
  {
   "cell_type": "markdown",
   "source": [
    "#### Importing the Genre Dataset Grouped By Genre"
   ],
   "metadata": {}
  },
  {
   "cell_type": "code",
   "execution_count": 5,
   "source": [
    "# Importing the grouped by genre dataset\n",
    "df_idea1_g_grouped = pd.read_csv('data/idea1_main_genre_grouped.csv')\n",
    "\n",
    "#Reset genre to be the index after importing csv\n",
    "df_idea1_g_grouped.index = df_idea1_g_grouped['main_genre']\n",
    "df_idea1_g_grouped.drop('main_genre',axis=1,inplace=True)\n",
    "df_clean = df_idea1_g_grouped.copy(deep=True)\n",
    "\n",
    "def dirty_money(dollar_int):\n",
    "    '''\n",
    "    Changes dollars as integer to dollars as string with commas and $ sign\n",
    "    '''\n",
    "    dollar_int = int(dollar_int)\n",
    "    dollar_str = str(dollar_int)[::-1]\n",
    "    final_dollar = ''\n",
    "    counter = 0\n",
    "    for number in dollar_str:\n",
    "        counter += 1\n",
    "        final_dollar += number\n",
    "        if counter % 3 == 0:\n",
    "            final_dollar += ','\n",
    "    if final_dollar[::-1][0] == ',':\n",
    "        final_dollar = final_dollar[:-1]\n",
    "        return '$' + final_dollar[::-1]\n",
    "    else:\n",
    "        return '$' + final_dollar[::-1]\n",
    "\n",
    "df_clean['mean_budget'] = df_idea1_g_grouped['mean_budget'].map(dirty_money)\n",
    "df_clean.rename({'gross_margin':'Mean Profitability (GM%)','mean_budget':'Mean Budget (USD)'},inplace=True,axis=1)\n",
    "df_clean.filter(['Mean Profitability (GM%)', 'Mean Budget (USD)']).head()"
   ],
   "outputs": [
    {
     "output_type": "execute_result",
     "data": {
      "text/html": [
       "<div>\n",
       "<style scoped>\n",
       "    .dataframe tbody tr th:only-of-type {\n",
       "        vertical-align: middle;\n",
       "    }\n",
       "\n",
       "    .dataframe tbody tr th {\n",
       "        vertical-align: top;\n",
       "    }\n",
       "\n",
       "    .dataframe thead th {\n",
       "        text-align: right;\n",
       "    }\n",
       "</style>\n",
       "<table border=\"1\" class=\"dataframe\">\n",
       "  <thead>\n",
       "    <tr style=\"text-align: right;\">\n",
       "      <th></th>\n",
       "      <th>Mean Profitability (GM%)</th>\n",
       "      <th>Mean Budget (USD)</th>\n",
       "    </tr>\n",
       "    <tr>\n",
       "      <th>main_genre</th>\n",
       "      <th></th>\n",
       "      <th></th>\n",
       "    </tr>\n",
       "  </thead>\n",
       "  <tbody>\n",
       "    <tr>\n",
       "      <th>Horror/Mystery/Thriller</th>\n",
       "      <td>90.182759</td>\n",
       "      <td>$9,780,172</td>\n",
       "    </tr>\n",
       "    <tr>\n",
       "      <th>Adventure/Animation/Comedy</th>\n",
       "      <td>72.574925</td>\n",
       "      <td>$102,768,656</td>\n",
       "    </tr>\n",
       "    <tr>\n",
       "      <th>Drama/Romance</th>\n",
       "      <td>71.060690</td>\n",
       "      <td>$25,263,448</td>\n",
       "    </tr>\n",
       "    <tr>\n",
       "      <th>Action/Adventure/Sci-Fi</th>\n",
       "      <td>71.002308</td>\n",
       "      <td>$175,530,769</td>\n",
       "    </tr>\n",
       "    <tr>\n",
       "      <th>Action/Adventure/Comedy</th>\n",
       "      <td>70.281429</td>\n",
       "      <td>$102,071,428</td>\n",
       "    </tr>\n",
       "  </tbody>\n",
       "</table>\n",
       "</div>"
      ],
      "text/plain": [
       "                            Mean Profitability (GM%) Mean Budget (USD)\n",
       "main_genre                                                            \n",
       "Horror/Mystery/Thriller                    90.182759        $9,780,172\n",
       "Adventure/Animation/Comedy                 72.574925      $102,768,656\n",
       "Drama/Romance                              71.060690       $25,263,448\n",
       "Action/Adventure/Sci-Fi                    71.002308      $175,530,769\n",
       "Action/Adventure/Comedy                    70.281429      $102,071,428"
      ]
     },
     "metadata": {},
     "execution_count": 5
    }
   ],
   "metadata": {}
  },
  {
   "cell_type": "markdown",
   "source": [
    "Above are the top 5 entries in the Genre Dataset grouped by genre. It is sorted by the mean profitability of each genre.  Below shows the mean profitabilities of each genre as a bar graph."
   ],
   "metadata": {}
  },
  {
   "cell_type": "code",
   "execution_count": 6,
   "source": [
    "fig, axes = plt.subplots(nrows=1,ncols=2)\n",
    "\n",
    "figsize = (15,6)\n",
    "\n",
    "df_idea1_g_grouped['gross_margin'][6::-1].plot(ax=axes[0], kind='barh', \n",
    "                                               figsize=figsize, color = 'Green',\n",
    "                                               title='Mean Profitabilities for Common Movie Genres')\n",
    "df_idea1_g_grouped['mean_budget'][6::-1].plot(kind='barh',ax=axes[1],\n",
    "                                              color='Black',\n",
    "                                              title='Mean Production Budgets for Common Movie Genres')\n",
    "\n",
    "fig.tight_layout()\n",
    "axes[0].set_xlabel('Mean Profitability (GM%)')\n",
    "axes[1].set_xlabel('Mean Budget (100mil USD)')\n",
    "axes[0].set_ylabel('Movie Genres')\n",
    "axes[1].set_ylabel('')\n",
    "plt.show()"
   ],
   "outputs": [
    {
     "output_type": "display_data",
     "data": {
      "image/png": "[encoded data removed]",
      "text/plain": [
       "<Figure size 1080x432 with 2 Axes>"
      ]
     },
     "metadata": {
      "needs_background": "light"
     }
    }
   ],
   "metadata": {}
  },
  {
   "cell_type": "markdown",
   "source": [
    "Not only is **Horror/Mystery/Thriller** at the top for profit, it also has by far the lowest budget costs compared to the other genres in the top 7 most profitable. **Adventure/Animation/Comedy** comes in second for profitability but is second highest for production budget."
   ],
   "metadata": {}
  },
  {
   "cell_type": "markdown",
   "source": [
    "### The Horror/Mystery/Thriller Genre has the Lowest Production Budget and Highest Profitability"
   ],
   "metadata": {
    "id": "tUk2pRpenqwQ"
   }
  },
  {
   "cell_type": "markdown",
   "source": [
    "The next two graphs shows Profitability v Production Budget by movie. The movies within the top two genres for profitability (as discovered above) are highlighted."
   ],
   "metadata": {}
  },
  {
   "cell_type": "code",
   "execution_count": 7,
   "source": [
    "df_idea1_g = pd.read_csv('data/idea1_main_genre.csv')\n",
    "\n",
    "# Plotting\n",
    "fig, axes = plt.subplots(nrows=1,ncols=2)\n",
    "fig.set_figheight(10)\n",
    "fig.set_figwidth(20)\n",
    "\n",
    "plt1_list = [df_idea1_g_grouped.index[0]]\n",
    "plt2_list = [df_idea1_g_grouped.index[1]]\n",
    "\n",
    "df_idea1_g[df_idea1_g['release_year'] >= 2000].plot(ax=axes[0],kind='scatter' , x='budget_int' , y ='gross_margin')\n",
    "df_idea1_g[(df_idea1_g['release_year'] >= 2000) & (df_idea1_g['main_genre'].isin(plt1_list))].plot(ax=axes[0],kind='scatter',x='budget_int',y='gross_margin',color='DarkOrange',label=plt1_list[0])\n",
    "\n",
    "df_idea1_g[df_idea1_g['release_year'] >= 2000].plot(ax=axes[1],kind='scatter' , x='budget_int' , y ='gross_margin')\n",
    "df_idea1_g[(df_idea1_g['release_year'] >= 2000) & (df_idea1_g['main_genre'].isin(plt2_list))].plot(ax=axes[1],kind='scatter',x='budget_int',y='gross_margin',color='Magenta',label=plt2_list[0])\n",
    "\n",
    "fig.suptitle('Profitability vs Production Budget',fontsize=20)\n",
    "for i in [0,1]:\n",
    "        axes[i].set_ylabel('Profitability (GM%)')\n",
    "        axes[i].set_xlabel('Movie Budget (100mil USD)')\n",
    "        axes[i].set_ylim(-100,100)\n",
    "plt.show()"
   ],
   "outputs": [
    {
     "output_type": "display_data",
     "data": {
      "image/png": "[encoded data removed]",
      "text/plain": [
       "<Figure size 1440x720 with 2 Axes>"
      ]
     },
     "metadata": {
      "needs_background": "light"
     }
    }
   ],
   "metadata": {
    "id": "SkY4-3oan4Zx"
   }
  },
  {
   "cell_type": "markdown",
   "source": [
    "### Example Horror/Mystery Movies"
   ],
   "metadata": {
    "id": "g5aeY_FHoCHz"
   }
  },
  {
   "cell_type": "code",
   "execution_count": 8,
   "source": [
    "df_director = pd.read_csv('data/idea1_only_hmt.csv')\n",
    "df_director.loc[:9 ,'Movie Title':]"
   ],
   "outputs": [
    {
     "output_type": "execute_result",
     "data": {
      "text/html": [
       "<div>\n",
       "<style scoped>\n",
       "    .dataframe tbody tr th:only-of-type {\n",
       "        vertical-align: middle;\n",
       "    }\n",
       "\n",
       "    .dataframe tbody tr th {\n",
       "        vertical-align: top;\n",
       "    }\n",
       "\n",
       "    .dataframe thead th {\n",
       "        text-align: right;\n",
       "    }\n",
       "</style>\n",
       "<table border=\"1\" class=\"dataframe\">\n",
       "  <thead>\n",
       "    <tr style=\"text-align: right;\">\n",
       "      <th></th>\n",
       "      <th>Movie Title</th>\n",
       "      <th>Budget (USD)</th>\n",
       "      <th>Total Gross (USD)</th>\n",
       "      <th>Profitability (GM%)</th>\n",
       "      <th>Release Year</th>\n",
       "      <th>Average IMDB Rating</th>\n",
       "      <th>Director</th>\n",
       "    </tr>\n",
       "  </thead>\n",
       "  <tbody>\n",
       "    <tr>\n",
       "      <th>0</th>\n",
       "      <td>The Conjuring</td>\n",
       "      <td>$20,000,000</td>\n",
       "      <td>$455,400,282</td>\n",
       "      <td>95.61</td>\n",
       "      <td>2013</td>\n",
       "      <td>7.5</td>\n",
       "      <td>James Wan</td>\n",
       "    </tr>\n",
       "    <tr>\n",
       "      <th>1</th>\n",
       "      <td>Annabelle: Creation</td>\n",
       "      <td>$15,000,000</td>\n",
       "      <td>$407,477,066</td>\n",
       "      <td>96.32</td>\n",
       "      <td>2017</td>\n",
       "      <td>6.5</td>\n",
       "      <td>David F. Sandberg</td>\n",
       "    </tr>\n",
       "    <tr>\n",
       "      <th>2</th>\n",
       "      <td>Annabelle</td>\n",
       "      <td>$6,500,000</td>\n",
       "      <td>$341,136,733</td>\n",
       "      <td>98.09</td>\n",
       "      <td>2014</td>\n",
       "      <td>5.4</td>\n",
       "      <td>John R. Leonetti</td>\n",
       "    </tr>\n",
       "    <tr>\n",
       "      <th>3</th>\n",
       "      <td>Insidious: The Last Key</td>\n",
       "      <td>$10,000,000</td>\n",
       "      <td>$235,630,918</td>\n",
       "      <td>95.76</td>\n",
       "      <td>2018</td>\n",
       "      <td>5.7</td>\n",
       "      <td>Adam Robitel</td>\n",
       "    </tr>\n",
       "    <tr>\n",
       "      <th>4</th>\n",
       "      <td>Happy Death Day</td>\n",
       "      <td>$5,000,000</td>\n",
       "      <td>$180,694,105</td>\n",
       "      <td>97.23</td>\n",
       "      <td>2017</td>\n",
       "      <td>6.6</td>\n",
       "      <td>Christopher Landon</td>\n",
       "    </tr>\n",
       "    <tr>\n",
       "      <th>5</th>\n",
       "      <td>The Visit</td>\n",
       "      <td>$5,000,000</td>\n",
       "      <td>$163,883,921</td>\n",
       "      <td>96.95</td>\n",
       "      <td>2015</td>\n",
       "      <td>6.2</td>\n",
       "      <td>M. Night Shyamalan</td>\n",
       "    </tr>\n",
       "    <tr>\n",
       "      <th>6</th>\n",
       "      <td>Sinister</td>\n",
       "      <td>$3,000,000</td>\n",
       "      <td>$135,814,710</td>\n",
       "      <td>97.79</td>\n",
       "      <td>2012</td>\n",
       "      <td>6.8</td>\n",
       "      <td>Scott Derrickson</td>\n",
       "    </tr>\n",
       "    <tr>\n",
       "      <th>7</th>\n",
       "      <td>The Possession</td>\n",
       "      <td>$14,000,000</td>\n",
       "      <td>$132,055,652</td>\n",
       "      <td>89.40</td>\n",
       "      <td>2012</td>\n",
       "      <td>5.9</td>\n",
       "      <td>Ole Bornedal</td>\n",
       "    </tr>\n",
       "    <tr>\n",
       "      <th>8</th>\n",
       "      <td>Paranormal Activity: The Marked Ones</td>\n",
       "      <td>$5,000,000</td>\n",
       "      <td>$123,367,226</td>\n",
       "      <td>95.95</td>\n",
       "      <td>2014</td>\n",
       "      <td>5.0</td>\n",
       "      <td>Christopher Landon</td>\n",
       "    </tr>\n",
       "    <tr>\n",
       "      <th>9</th>\n",
       "      <td>Deliver Us from Evil</td>\n",
       "      <td>$30,000,000</td>\n",
       "      <td>$118,533,740</td>\n",
       "      <td>74.69</td>\n",
       "      <td>2014</td>\n",
       "      <td>6.2</td>\n",
       "      <td>Scott Derrickson</td>\n",
       "    </tr>\n",
       "  </tbody>\n",
       "</table>\n",
       "</div>"
      ],
      "text/plain": [
       "                            Movie Title Budget (USD) Total Gross (USD)  \\\n",
       "0                         The Conjuring  $20,000,000      $455,400,282   \n",
       "1                   Annabelle: Creation  $15,000,000      $407,477,066   \n",
       "2                             Annabelle   $6,500,000      $341,136,733   \n",
       "3               Insidious: The Last Key  $10,000,000      $235,630,918   \n",
       "4                       Happy Death Day   $5,000,000      $180,694,105   \n",
       "5                             The Visit   $5,000,000      $163,883,921   \n",
       "6                              Sinister   $3,000,000      $135,814,710   \n",
       "7                        The Possession  $14,000,000      $132,055,652   \n",
       "8  Paranormal Activity: The Marked Ones   $5,000,000      $123,367,226   \n",
       "9                  Deliver Us from Evil  $30,000,000      $118,533,740   \n",
       "\n",
       "   Profitability (GM%)  Release Year  Average IMDB Rating            Director  \n",
       "0                95.61          2013                  7.5           James Wan  \n",
       "1                96.32          2017                  6.5   David F. Sandberg  \n",
       "2                98.09          2014                  5.4    John R. Leonetti  \n",
       "3                95.76          2018                  5.7        Adam Robitel  \n",
       "4                97.23          2017                  6.6  Christopher Landon  \n",
       "5                96.95          2015                  6.2  M. Night Shyamalan  \n",
       "6                97.79          2012                  6.8    Scott Derrickson  \n",
       "7                89.40          2012                  5.9        Ole Bornedal  \n",
       "8                95.95          2014                  5.0  Christopher Landon  \n",
       "9                74.69          2014                  6.2    Scott Derrickson  "
      ]
     },
     "metadata": {},
     "execution_count": 8
    }
   ],
   "metadata": {
    "id": "bYJ6m2eroXgD"
   }
  },
  {
   "cell_type": "code",
   "execution_count": 9,
   "source": [
    "df_top_grossing_studios = pd.read_csv('data/top_grossing_studios.csv')\n",
    "df_top_grossing_studios.index = df_top_grossing_studios[df_top_grossing_studios.columns[0]]\n",
    "df_top_grossing_studios.drop(df_top_grossing_studios.columns[0], axis = 1, inplace = True)\n",
    "df_top_grossing_studios.index.names = ['']\n",
    "df_top_grossing_studios.head(7)"
   ],
   "outputs": [
    {
     "output_type": "error",
     "ename": "FileNotFoundError",
     "evalue": "[Errno 2] No such file or directory: 'data/top_grossing_studios.csv'",
     "traceback": [
      "\u001b[0;31m---------------------------------------------------------------------------\u001b[0m",
      "\u001b[0;31mFileNotFoundError\u001b[0m                         Traceback (most recent call last)",
      "\u001b[0;32m<ipython-input-9-81e7d459d1c6>\u001b[0m in \u001b[0;36m<module>\u001b[0;34m\u001b[0m\n\u001b[0;32m----> 1\u001b[0;31m \u001b[0mdf_top_grossing_studios\u001b[0m \u001b[0;34m=\u001b[0m \u001b[0mpd\u001b[0m\u001b[0;34m.\u001b[0m\u001b[0mread_csv\u001b[0m\u001b[0;34m(\u001b[0m\u001b[0;34m'data/top_grossing_studios.csv'\u001b[0m\u001b[0;34m)\u001b[0m\u001b[0;34m\u001b[0m\u001b[0;34m\u001b[0m\u001b[0m\n\u001b[0m\u001b[1;32m      2\u001b[0m \u001b[0mdf_top_grossing_studios\u001b[0m\u001b[0;34m.\u001b[0m\u001b[0mindex\u001b[0m \u001b[0;34m=\u001b[0m \u001b[0mdf_top_grossing_studios\u001b[0m\u001b[0;34m[\u001b[0m\u001b[0mdf_top_grossing_studios\u001b[0m\u001b[0;34m.\u001b[0m\u001b[0mcolumns\u001b[0m\u001b[0;34m[\u001b[0m\u001b[0;36m0\u001b[0m\u001b[0;34m]\u001b[0m\u001b[0;34m]\u001b[0m\u001b[0;34m\u001b[0m\u001b[0;34m\u001b[0m\u001b[0m\n\u001b[1;32m      3\u001b[0m \u001b[0mdf_top_grossing_studios\u001b[0m\u001b[0;34m.\u001b[0m\u001b[0mdrop\u001b[0m\u001b[0;34m(\u001b[0m\u001b[0mdf_top_grossing_studios\u001b[0m\u001b[0;34m.\u001b[0m\u001b[0mcolumns\u001b[0m\u001b[0;34m[\u001b[0m\u001b[0;36m0\u001b[0m\u001b[0;34m]\u001b[0m\u001b[0;34m,\u001b[0m \u001b[0maxis\u001b[0m \u001b[0;34m=\u001b[0m \u001b[0;36m1\u001b[0m\u001b[0;34m,\u001b[0m \u001b[0minplace\u001b[0m \u001b[0;34m=\u001b[0m \u001b[0;32mTrue\u001b[0m\u001b[0;34m)\u001b[0m\u001b[0;34m\u001b[0m\u001b[0;34m\u001b[0m\u001b[0m\n\u001b[1;32m      4\u001b[0m \u001b[0mdf_top_grossing_studios\u001b[0m\u001b[0;34m.\u001b[0m\u001b[0mindex\u001b[0m\u001b[0;34m.\u001b[0m\u001b[0mnames\u001b[0m \u001b[0;34m=\u001b[0m \u001b[0;34m[\u001b[0m\u001b[0;34m''\u001b[0m\u001b[0;34m]\u001b[0m\u001b[0;34m\u001b[0m\u001b[0;34m\u001b[0m\u001b[0m\n\u001b[1;32m      5\u001b[0m \u001b[0mdf_top_grossing_studios\u001b[0m\u001b[0;34m.\u001b[0m\u001b[0mhead\u001b[0m\u001b[0;34m(\u001b[0m\u001b[0;36m7\u001b[0m\u001b[0;34m)\u001b[0m\u001b[0;34m\u001b[0m\u001b[0;34m\u001b[0m\u001b[0m\n",
      "\u001b[0;32m/opt/anaconda3/envs/learn-env/lib/python3.8/site-packages/pandas/io/parsers.py\u001b[0m in \u001b[0;36mread_csv\u001b[0;34m(filepath_or_buffer, sep, delimiter, header, names, index_col, usecols, squeeze, prefix, mangle_dupe_cols, dtype, engine, converters, true_values, false_values, skipinitialspace, skiprows, skipfooter, nrows, na_values, keep_default_na, na_filter, verbose, skip_blank_lines, parse_dates, infer_datetime_format, keep_date_col, date_parser, dayfirst, cache_dates, iterator, chunksize, compression, thousands, decimal, lineterminator, quotechar, quoting, doublequote, escapechar, comment, encoding, dialect, error_bad_lines, warn_bad_lines, delim_whitespace, low_memory, memory_map, float_precision)\u001b[0m\n\u001b[1;32m    684\u001b[0m     )\n\u001b[1;32m    685\u001b[0m \u001b[0;34m\u001b[0m\u001b[0m\n\u001b[0;32m--> 686\u001b[0;31m     \u001b[0;32mreturn\u001b[0m \u001b[0m_read\u001b[0m\u001b[0;34m(\u001b[0m\u001b[0mfilepath_or_buffer\u001b[0m\u001b[0;34m,\u001b[0m \u001b[0mkwds\u001b[0m\u001b[0;34m)\u001b[0m\u001b[0;34m\u001b[0m\u001b[0;34m\u001b[0m\u001b[0m\n\u001b[0m\u001b[1;32m    687\u001b[0m \u001b[0;34m\u001b[0m\u001b[0m\n\u001b[1;32m    688\u001b[0m \u001b[0;34m\u001b[0m\u001b[0m\n",
      "\u001b[0;32m/opt/anaconda3/envs/learn-env/lib/python3.8/site-packages/pandas/io/parsers.py\u001b[0m in \u001b[0;36m_read\u001b[0;34m(filepath_or_buffer, kwds)\u001b[0m\n\u001b[1;32m    450\u001b[0m \u001b[0;34m\u001b[0m\u001b[0m\n\u001b[1;32m    451\u001b[0m     \u001b[0;31m# Create the parser.\u001b[0m\u001b[0;34m\u001b[0m\u001b[0;34m\u001b[0m\u001b[0;34m\u001b[0m\u001b[0m\n\u001b[0;32m--> 452\u001b[0;31m     \u001b[0mparser\u001b[0m \u001b[0;34m=\u001b[0m \u001b[0mTextFileReader\u001b[0m\u001b[0;34m(\u001b[0m\u001b[0mfp_or_buf\u001b[0m\u001b[0;34m,\u001b[0m \u001b[0;34m**\u001b[0m\u001b[0mkwds\u001b[0m\u001b[0;34m)\u001b[0m\u001b[0;34m\u001b[0m\u001b[0;34m\u001b[0m\u001b[0m\n\u001b[0m\u001b[1;32m    453\u001b[0m \u001b[0;34m\u001b[0m\u001b[0m\n\u001b[1;32m    454\u001b[0m     \u001b[0;32mif\u001b[0m \u001b[0mchunksize\u001b[0m \u001b[0;32mor\u001b[0m \u001b[0miterator\u001b[0m\u001b[0;34m:\u001b[0m\u001b[0;34m\u001b[0m\u001b[0;34m\u001b[0m\u001b[0m\n",
      "\u001b[0;32m/opt/anaconda3/envs/learn-env/lib/python3.8/site-packages/pandas/io/parsers.py\u001b[0m in \u001b[0;36m__init__\u001b[0;34m(self, f, engine, **kwds)\u001b[0m\n\u001b[1;32m    944\u001b[0m             \u001b[0mself\u001b[0m\u001b[0;34m.\u001b[0m\u001b[0moptions\u001b[0m\u001b[0;34m[\u001b[0m\u001b[0;34m\"has_index_names\"\u001b[0m\u001b[0;34m]\u001b[0m \u001b[0;34m=\u001b[0m \u001b[0mkwds\u001b[0m\u001b[0;34m[\u001b[0m\u001b[0;34m\"has_index_names\"\u001b[0m\u001b[0;34m]\u001b[0m\u001b[0;34m\u001b[0m\u001b[0;34m\u001b[0m\u001b[0m\n\u001b[1;32m    945\u001b[0m \u001b[0;34m\u001b[0m\u001b[0m\n\u001b[0;32m--> 946\u001b[0;31m         \u001b[0mself\u001b[0m\u001b[0;34m.\u001b[0m\u001b[0m_make_engine\u001b[0m\u001b[0;34m(\u001b[0m\u001b[0mself\u001b[0m\u001b[0;34m.\u001b[0m\u001b[0mengine\u001b[0m\u001b[0;34m)\u001b[0m\u001b[0;34m\u001b[0m\u001b[0;34m\u001b[0m\u001b[0m\n\u001b[0m\u001b[1;32m    947\u001b[0m \u001b[0;34m\u001b[0m\u001b[0m\n\u001b[1;32m    948\u001b[0m     \u001b[0;32mdef\u001b[0m \u001b[0mclose\u001b[0m\u001b[0;34m(\u001b[0m\u001b[0mself\u001b[0m\u001b[0;34m)\u001b[0m\u001b[0;34m:\u001b[0m\u001b[0;34m\u001b[0m\u001b[0;34m\u001b[0m\u001b[0m\n",
      "\u001b[0;32m/opt/anaconda3/envs/learn-env/lib/python3.8/site-packages/pandas/io/parsers.py\u001b[0m in \u001b[0;36m_make_engine\u001b[0;34m(self, engine)\u001b[0m\n\u001b[1;32m   1176\u001b[0m     \u001b[0;32mdef\u001b[0m \u001b[0m_make_engine\u001b[0m\u001b[0;34m(\u001b[0m\u001b[0mself\u001b[0m\u001b[0;34m,\u001b[0m \u001b[0mengine\u001b[0m\u001b[0;34m=\u001b[0m\u001b[0;34m\"c\"\u001b[0m\u001b[0;34m)\u001b[0m\u001b[0;34m:\u001b[0m\u001b[0;34m\u001b[0m\u001b[0;34m\u001b[0m\u001b[0m\n\u001b[1;32m   1177\u001b[0m         \u001b[0;32mif\u001b[0m \u001b[0mengine\u001b[0m \u001b[0;34m==\u001b[0m \u001b[0;34m\"c\"\u001b[0m\u001b[0;34m:\u001b[0m\u001b[0;34m\u001b[0m\u001b[0;34m\u001b[0m\u001b[0m\n\u001b[0;32m-> 1178\u001b[0;31m             \u001b[0mself\u001b[0m\u001b[0;34m.\u001b[0m\u001b[0m_engine\u001b[0m \u001b[0;34m=\u001b[0m \u001b[0mCParserWrapper\u001b[0m\u001b[0;34m(\u001b[0m\u001b[0mself\u001b[0m\u001b[0;34m.\u001b[0m\u001b[0mf\u001b[0m\u001b[0;34m,\u001b[0m \u001b[0;34m**\u001b[0m\u001b[0mself\u001b[0m\u001b[0;34m.\u001b[0m\u001b[0moptions\u001b[0m\u001b[0;34m)\u001b[0m\u001b[0;34m\u001b[0m\u001b[0;34m\u001b[0m\u001b[0m\n\u001b[0m\u001b[1;32m   1179\u001b[0m         \u001b[0;32melse\u001b[0m\u001b[0;34m:\u001b[0m\u001b[0;34m\u001b[0m\u001b[0;34m\u001b[0m\u001b[0m\n\u001b[1;32m   1180\u001b[0m             \u001b[0;32mif\u001b[0m \u001b[0mengine\u001b[0m \u001b[0;34m==\u001b[0m \u001b[0;34m\"python\"\u001b[0m\u001b[0;34m:\u001b[0m\u001b[0;34m\u001b[0m\u001b[0;34m\u001b[0m\u001b[0m\n",
      "\u001b[0;32m/opt/anaconda3/envs/learn-env/lib/python3.8/site-packages/pandas/io/parsers.py\u001b[0m in \u001b[0;36m__init__\u001b[0;34m(self, src, **kwds)\u001b[0m\n\u001b[1;32m   2006\u001b[0m         \u001b[0mkwds\u001b[0m\u001b[0;34m[\u001b[0m\u001b[0;34m\"usecols\"\u001b[0m\u001b[0;34m]\u001b[0m \u001b[0;34m=\u001b[0m \u001b[0mself\u001b[0m\u001b[0;34m.\u001b[0m\u001b[0musecols\u001b[0m\u001b[0;34m\u001b[0m\u001b[0;34m\u001b[0m\u001b[0m\n\u001b[1;32m   2007\u001b[0m \u001b[0;34m\u001b[0m\u001b[0m\n\u001b[0;32m-> 2008\u001b[0;31m         \u001b[0mself\u001b[0m\u001b[0;34m.\u001b[0m\u001b[0m_reader\u001b[0m \u001b[0;34m=\u001b[0m \u001b[0mparsers\u001b[0m\u001b[0;34m.\u001b[0m\u001b[0mTextReader\u001b[0m\u001b[0;34m(\u001b[0m\u001b[0msrc\u001b[0m\u001b[0;34m,\u001b[0m \u001b[0;34m**\u001b[0m\u001b[0mkwds\u001b[0m\u001b[0;34m)\u001b[0m\u001b[0;34m\u001b[0m\u001b[0;34m\u001b[0m\u001b[0m\n\u001b[0m\u001b[1;32m   2009\u001b[0m         \u001b[0mself\u001b[0m\u001b[0;34m.\u001b[0m\u001b[0munnamed_cols\u001b[0m \u001b[0;34m=\u001b[0m \u001b[0mself\u001b[0m\u001b[0;34m.\u001b[0m\u001b[0m_reader\u001b[0m\u001b[0;34m.\u001b[0m\u001b[0munnamed_cols\u001b[0m\u001b[0;34m\u001b[0m\u001b[0;34m\u001b[0m\u001b[0m\n\u001b[1;32m   2010\u001b[0m \u001b[0;34m\u001b[0m\u001b[0m\n",
      "\u001b[0;32mpandas/_libs/parsers.pyx\u001b[0m in \u001b[0;36mpandas._libs.parsers.TextReader.__cinit__\u001b[0;34m()\u001b[0m\n",
      "\u001b[0;32mpandas/_libs/parsers.pyx\u001b[0m in \u001b[0;36mpandas._libs.parsers.TextReader._setup_parser_source\u001b[0;34m()\u001b[0m\n",
      "\u001b[0;31mFileNotFoundError\u001b[0m: [Errno 2] No such file or directory: 'data/top_grossing_studios.csv'"
     ]
    }
   ],
   "metadata": {}
  },
  {
   "cell_type": "code",
   "execution_count": null,
   "source": [
    "above_100_studios = list(df_top_grossing_studios.keys())\n",
    "medians = []\n",
    "for median in df_top_grossing_studios:\n",
    "    medians.append(int((df_top_grossing_studios[median]['median_gross'])))\n",
    "median_total_gr = 1100000"
   ],
   "outputs": [],
   "metadata": {}
  },
  {
   "cell_type": "markdown",
   "source": [
    "####  All studio average median is represented by the vertical dashed line\n",
    "\n",
    "BV = Buena Vista (Disney)<br>\n",
    "Uni. = Universal Studios<br>\n",
    "Par. = Paramount Pictures<br>\n",
    "WB = Warner Bros. Studios<br>\n",
    "LGF = Lionsgate Entertainment Corp.<br>\n",
    "SPC = Sony Pictures Classics<br>\n",
    "IFC = Independent Film Channel (owned by AMC)<br>\n",
    "Magn. = Magnolia Pictures"
   ],
   "metadata": {}
  },
  {
   "cell_type": "markdown",
   "source": [
    "## Citations\n",
    "\n",
    "<https://mowe.studio/how-much-does-animation-cost-vs-live-action/>\n",
    "\n",
    "<https://www.imdb.com/interfaces/>\n",
    "\n",
    "<https://help.imdb.com/article/imdbpro/industry-research/box-office-mojo-by-imdbpro-faq/GCWTV4MQKGWRAUAP?ref_=mojo_ftr_help#>"
   ],
   "metadata": {}
  }
 ],
 "metadata": {
  "colab": {
   "authorship_tag": "ABX9TyPv2tZhXIVYNOPJtBLRWAU+",
   "include_colab_link": true,
   "name": "Phase1_Project.ipynb",
   "provenance": []
  },
  "interpreter": {
   "hash": "c15d3b161d9e31d3c14101c293414707f40e59d6cae0bbd6b708ca3d1e942f6f"
  },
  "kernelspec": {
   "name": "python3",
   "display_name": "Python 3.8.5 64-bit ('learn-env': conda)"
  },
  "language_info": {
   "codemirror_mode": {
    "name": "ipython",
    "version": 3
   },
   "file_extension": ".py",
   "mimetype": "text/x-python",
   "name": "python",
   "nbconvert_exporter": "python",
   "pygments_lexer": "ipython3",
   "version": "3.8.5"
  }
 },
 "nbformat": 4,
 "nbformat_minor": 2
}